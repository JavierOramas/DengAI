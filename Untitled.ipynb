{
 "cells": [
  {
   "cell_type": "code",
   "execution_count": 16,
   "metadata": {},
   "outputs": [],
   "source": [
    "import tensorflow as tf\n",
    "import sklearn\n",
    "import pandas as pd\n",
    "import matplotlib.pyplot as plt\n",
    "from sklearn.impute import SimpleImputer\n",
    "from sklearn.model_selection import train_test_split\n",
    "from sklearn.linear_model import LinearRegression\n",
    "from sklearn.metrics import mean_absolute_error\n",
    "from sklearn.preprocessing import PolynomialFeatures\n",
    "from sklearn.preprocessing import StandardScaler\n",
    "import numpy as np\n",
    "from sklearn.ensemble import RandomForestRegressor\n",
    "from sklearn.svm import SVR\n",
    "import math\n",
    "%matplotlib inline"
   ]
  },
  {
   "cell_type": "code",
   "execution_count": 17,
   "metadata": {},
   "outputs": [
    {
     "name": "stderr",
     "output_type": "stream",
     "text": [
      "/home/javier/anaconda3/lib/python3.7/site-packages/ipykernel_launcher.py:9: SettingWithCopyWarning: \n",
      "A value is trying to be set on a copy of a slice from a DataFrame.\n",
      "Try using .loc[row_indexer,col_indexer] = value instead\n",
      "\n",
      "See the caveats in the documentation: http://pandas.pydata.org/pandas-docs/stable/user_guide/indexing.html#returning-a-view-versus-a-copy\n",
      "  if __name__ == '__main__':\n",
      "/home/javier/anaconda3/lib/python3.7/site-packages/ipykernel_launcher.py:10: SettingWithCopyWarning: \n",
      "A value is trying to be set on a copy of a slice from a DataFrame.\n",
      "Try using .loc[row_indexer,col_indexer] = value instead\n",
      "\n",
      "See the caveats in the documentation: http://pandas.pydata.org/pandas-docs/stable/user_guide/indexing.html#returning-a-view-versus-a-copy\n",
      "  # Remove the CWD from sys.path while we load stuff.\n",
      "/home/javier/anaconda3/lib/python3.7/site-packages/pandas/core/frame.py:4117: SettingWithCopyWarning: \n",
      "A value is trying to be set on a copy of a slice from a DataFrame\n",
      "\n",
      "See the caveats in the documentation: http://pandas.pydata.org/pandas-docs/stable/user_guide/indexing.html#returning-a-view-versus-a-copy\n",
      "  errors=errors,\n"
     ]
    }
   ],
   "source": [
    "dataframe=pd.read_csv('dengue_features_train.csv')\n",
    "labels=pd.read_csv('dengue_labels_train.csv')\n",
    "target_df=pd.read_csv('dengue_features_test.csv')\n",
    "submission_format=pd.read_csv('submission_format.csv')\n",
    "target_df['month']=[int(i[5:7]) for i in target_df['week_start_date']]\n",
    "\n",
    "def clean_data(df):\n",
    "    #file.set_index('week_start_date', drop = True, inplace = True)\n",
    "    df['month']=[int(i[5:7]) for i in df['week_start_date']]\n",
    "    df['nvdi']= df['ndvi_ne']+df['ndvi_nw']+df['ndvi_se']+df['ndvi_sw']\n",
    "    \n",
    "    df=df.drop(['city','week_start_date', 'year'], axis = 1, inplace = True)\n",
    "    \n",
    "    #,'ndvi_ne','ndvi_nw', 'ndvi_se', 'ndvi_sw'\n",
    "\n",
    "def fill_missing_values(df):\n",
    "    imputer = SimpleImputer(strategy=\"median\") \n",
    "    imputer.fit(df)\n",
    "    x=imputer.transform(df)\n",
    "   \n",
    "    return pd.DataFrame(x, columns=df.columns)\n",
    "\n",
    "def split_data_in_cities(df):\n",
    "    #cities=set(df['city'])\n",
    "    cities=['sj','iq']\n",
    "    new_files=[]\n",
    "    for city in list(cities):\n",
    "        new_files.append(df[df['city'] == city])\n",
    "\n",
    "    return new_files\n",
    "\n",
    "def eliminate_not_outliers(df_labels, city_df):\n",
    "    cases=np.array(df_labels['total_cases'])\n",
    "    df_labels=df_labels.reset_index()\n",
    "    city_df=city_df.reset_index()\n",
    "    rows_to_eliminate=[]\n",
    "    mean=cases.mean()\n",
    "    for i in range(len(cases)):\n",
    "        if(cases[i]<(mean+20)):\n",
    "            rows_to_eliminate.append(i)\n",
    "    \n",
    "    #print(rows_to_eliminate)\n",
    "    #print(df_labels)\n",
    "    df_labels.drop(rows_to_eliminate, axis=0, inplace=True)\n",
    "    city_df.drop(rows_to_eliminate, axis=0, inplace=True)\n",
    "    df_labels.drop(['index'], axis=1, inplace=True)\n",
    "    city_df.drop(['index'], axis=1, inplace=True)\n",
    "    return df_labels, city_df\n",
    "\n",
    "\n",
    "new_files=split_data_in_cities(dataframe)\n",
    "new_labels=split_data_in_cities(labels)\n",
    "new_target=split_data_in_cities(target_df)\n",
    "\n",
    "sj_df=new_files[0]\n",
    "iq_df=new_files[1]\n",
    "\n",
    "sj_labels=new_labels[0]\n",
    "iq_labels=new_labels[1]\n",
    "\n",
    "sj_target=new_target[0]\n",
    "iq_target=new_target[1]\n",
    "\n",
    "clean_data(sj_df)\n",
    "clean_data(iq_df)\n",
    "sj_labels, sj_df =eliminate_not_outliers(sj_labels, sj_df)\n",
    "iq_labels, iq_df= eliminate_not_outliers(iq_labels, iq_df)\n",
    "\n",
    "sj_df=fill_missing_values(sj_df)\n",
    "iq_df=fill_missing_values(iq_df)\n",
    "\n",
    "clean_data(dataframe)\n",
    "dataframe=fill_missing_values(dataframe)\n"
   ]
  },
  {
   "cell_type": "code",
   "execution_count": null,
   "metadata": {},
   "outputs": [],
   "source": []
  },
  {
   "cell_type": "code",
   "execution_count": 18,
   "metadata": {},
   "outputs": [],
   "source": [
    "x_sj_train, x_sj_test, y_sj_train, y_sj_test = train_test_split(sj_df, np.array(sj_labels['total_cases']), test_size=0.2)\n",
    "x_iq_train, x_iq_test, y_iq_train, y_iq_test = train_test_split(iq_df, np.array(iq_labels['total_cases']), test_size=0.2)\n",
    "x_train, x_test, y_train, y_test = train_test_split(dataframe, np.array(labels['total_cases']), test_size=0.2)"
   ]
  },
  {
   "cell_type": "code",
   "execution_count": 19,
   "metadata": {},
   "outputs": [],
   "source": [
    "from tensorflow.keras.layers import Dense\n",
    "\n",
    "model = tf.keras.models.Sequential()\n",
    "model.add(tf.keras.layers.Dense(units='128',input_shape=(23,)))\n",
    "model.add(tf.keras.layers.Dropout(0.3))\n",
    "model.add(tf.keras.layers.Dense(50,activation='relu'))\n",
    "model.add(Dense(1))\n",
    "\n",
    "model.compile(loss='mae', optimizer='adam')"
   ]
  },
  {
   "cell_type": "code",
   "execution_count": 20,
   "metadata": {},
   "outputs": [
    {
     "name": "stdout",
     "output_type": "stream",
     "text": [
      "Train on 123 samples\n",
      "Epoch 1/20\n",
      "123/123 [==============================] - 0s 2ms/sample - loss: 102.6744\n",
      "Epoch 2/20\n",
      "123/123 [==============================] - 0s 74us/sample - loss: 80.6108\n",
      "Epoch 3/20\n",
      "123/123 [==============================] - 0s 58us/sample - loss: 66.1845\n",
      "Epoch 4/20\n",
      "123/123 [==============================] - 0s 90us/sample - loss: 73.0836\n",
      "Epoch 5/20\n",
      "123/123 [==============================] - 0s 61us/sample - loss: 63.9971\n",
      "Epoch 6/20\n",
      "123/123 [==============================] - 0s 91us/sample - loss: 68.5176\n",
      "Epoch 7/20\n",
      "123/123 [==============================] - 0s 80us/sample - loss: 61.1326\n",
      "Epoch 8/20\n",
      "123/123 [==============================] - 0s 69us/sample - loss: 59.7372\n",
      "Epoch 9/20\n",
      "123/123 [==============================] - 0s 78us/sample - loss: 58.1533\n",
      "Epoch 10/20\n",
      "123/123 [==============================] - 0s 54us/sample - loss: 61.3861\n",
      "Epoch 11/20\n",
      "123/123 [==============================] - 0s 69us/sample - loss: 57.8201\n",
      "Epoch 12/20\n",
      "123/123 [==============================] - 0s 100us/sample - loss: 51.8735\n",
      "Epoch 13/20\n",
      "123/123 [==============================] - 0s 57us/sample - loss: 55.8638\n",
      "Epoch 14/20\n",
      "123/123 [==============================] - 0s 72us/sample - loss: 55.2655\n",
      "Epoch 15/20\n",
      "123/123 [==============================] - 0s 60us/sample - loss: 58.7547\n",
      "Epoch 16/20\n",
      "123/123 [==============================] - 0s 80us/sample - loss: 51.1109\n",
      "Epoch 17/20\n",
      "123/123 [==============================] - 0s 60us/sample - loss: 52.5646\n",
      "Epoch 18/20\n",
      "123/123 [==============================] - 0s 69us/sample - loss: 49.2544\n",
      "Epoch 19/20\n",
      "123/123 [==============================] - 0s 54us/sample - loss: 48.0755\n",
      "Epoch 20/20\n",
      "123/123 [==============================] - 0s 77us/sample - loss: 52.3044\n"
     ]
    },
    {
     "data": {
      "text/plain": [
       "<tensorflow.python.keras.callbacks.History at 0x7f401449db50>"
      ]
     },
     "execution_count": 20,
     "metadata": {},
     "output_type": "execute_result"
    }
   ],
   "source": [
    "model.fit(np.array(x_sj_train),np.array(y_sj_train), epochs=20)"
   ]
  },
  {
   "cell_type": "code",
   "execution_count": 21,
   "metadata": {},
   "outputs": [
    {
     "name": "stdout",
     "output_type": "stream",
     "text": [
      "WARNING:tensorflow:Falling back from v2 loop because of error: Failed to find data adapter that can handle input: <class 'pandas.core.frame.DataFrame'>, <class 'NoneType'>\n"
     ]
    }
   ],
   "source": [
    "sj_prediction = model.predict(x_sj_test)"
   ]
  },
  {
   "cell_type": "code",
   "execution_count": 22,
   "metadata": {},
   "outputs": [
    {
     "data": {
      "text/plain": [
       "array([[87.063416],\n",
       "       [88.634544],\n",
       "       [84.914314],\n",
       "       [90.96184 ],\n",
       "       [77.8655  ],\n",
       "       [88.42428 ],\n",
       "       [93.79449 ],\n",
       "       [82.861145],\n",
       "       [82.53336 ],\n",
       "       [89.59325 ],\n",
       "       [88.89121 ],\n",
       "       [93.02795 ],\n",
       "       [89.83386 ],\n",
       "       [81.35581 ],\n",
       "       [91.299934],\n",
       "       [84.007454],\n",
       "       [83.39401 ],\n",
       "       [89.233894],\n",
       "       [92.97432 ],\n",
       "       [87.65111 ],\n",
       "       [75.48241 ],\n",
       "       [92.35013 ],\n",
       "       [84.966805],\n",
       "       [90.09358 ],\n",
       "       [93.351685],\n",
       "       [93.027504],\n",
       "       [67.92876 ],\n",
       "       [72.28517 ],\n",
       "       [84.20029 ],\n",
       "       [84.22406 ],\n",
       "       [85.06249 ]], dtype=float32)"
      ]
     },
     "execution_count": 22,
     "metadata": {},
     "output_type": "execute_result"
    }
   ],
   "source": [
    "sj_prediction"
   ]
  },
  {
   "cell_type": "code",
   "execution_count": 23,
   "metadata": {},
   "outputs": [
    {
     "data": {
      "text/plain": [
       "[<matplotlib.lines.Line2D at 0x7f40047c5c10>]"
      ]
     },
     "execution_count": 23,
     "metadata": {},
     "output_type": "execute_result"
    },
    {
     "data": {
      "image/png": "[encoded data removed]",
      "text/plain": [
       "<Figure size 432x288 with 1 Axes>"
      ]
     },
     "metadata": {
      "needs_background": "light"
     },
     "output_type": "display_data"
    }
   ],
   "source": [
    "plt.plot(np.array(y_sj_test))\n",
    "plt.plot(sj_prediction)"
   ]
  },
  {
   "cell_type": "code",
   "execution_count": null,
   "metadata": {},
   "outputs": [],
   "source": []
  }
 ],
 "metadata": {
  "kernelspec": {
   "display_name": "Python 3",
   "language": "python",
   "name": "python3"
  },
  "language_info": {
   "codemirror_mode": {
    "name": "ipython",
    "version": 3
   },
   "file_extension": ".py",
   "mimetype": "text/x-python",
   "name": "python",
   "nbconvert_exporter": "python",
   "pygments_lexer": "ipython3",
   "version": "3.7.4"
  }
 },
 "nbformat": 4,
 "nbformat_minor": 4
}
